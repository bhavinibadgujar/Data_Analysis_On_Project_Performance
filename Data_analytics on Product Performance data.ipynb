{
 "cells": [
  {
   "cell_type": "markdown",
   "id": "fa7aa512",
   "metadata": {},
   "source": [
    "# Data Analytics on Vacation Data"
   ]
  },
  {
   "cell_type": "markdown",
   "id": "006bb548",
   "metadata": {},
   "source": [
    "###  In this Analysis We are going to describe the performance of multiple Products.\n"
   ]
  },
  {
   "cell_type": "markdown",
   "id": "d1f10f62",
   "metadata": {},
   "source": [
    "## Importing The Requiered Libraries"
   ]
  },
  {
   "cell_type": "code",
   "execution_count": 1,
   "id": "73d3347d",
   "metadata": {},
   "outputs": [],
   "source": [
    "# import pandas\n",
    "import pandas as pd\n",
    "\n",
    "# import numpy \n",
    "import numpy as np\n",
    "\n",
    "# import matplotlib\n",
    "import matplotlib.pyplot as plt\n",
    "\n",
    "#import seaborn\n",
    "import seaborn as sns"
   ]
  },
  {
   "cell_type": "markdown",
   "id": "13cf6a6b",
   "metadata": {},
   "source": [
    "### Load the data set "
   ]
  },
  {
   "cell_type": "code",
   "execution_count": 2,
   "id": "414a2c03",
   "metadata": {},
   "outputs": [],
   "source": [
    "# Read the data file we have in the folder\n",
    "df_Product_Data = pd.read_csv('product_performance_data.csv')\n"
   ]
  },
  {
   "cell_type": "markdown",
   "id": "56de3553",
   "metadata": {},
   "source": [
    "## Univariate Analysis"
   ]
  },
  {
   "cell_type": "code",
   "execution_count": 3,
   "id": "50c3bdd8",
   "metadata": {},
   "outputs": [],
   "source": [
    "df_num = df_Product_Data.select_dtypes(include='number') #numerical data frame\n",
    "df_cat = df_Product_Data.select_dtypes(include='object') #numerical data frame\n"
   ]
  },
  {
   "cell_type": "code",
   "execution_count": 4,
   "id": "90383282",
   "metadata": {},
   "outputs": [
    {
     "data": {
      "text/html": [
       "<div>\n",
       "<style scoped>\n",
       "    .dataframe tbody tr th:only-of-type {\n",
       "        vertical-align: middle;\n",
       "    }\n",
       "\n",
       "    .dataframe tbody tr th {\n",
       "        vertical-align: top;\n",
       "    }\n",
       "\n",
       "    .dataframe thead th {\n",
       "        text-align: right;\n",
       "    }\n",
       "</style>\n",
       "<table border=\"1\" class=\"dataframe\">\n",
       "  <thead>\n",
       "    <tr style=\"text-align: right;\">\n",
       "      <th></th>\n",
       "      <th>Product_ID</th>\n",
       "      <th>Total_Sales</th>\n",
       "      <th>Revenue_Generated</th>\n",
       "      <th>Average_Selling_Price</th>\n",
       "      <th>Discount_Percentage</th>\n",
       "      <th>Stock_Available</th>\n",
       "      <th>Reorder_Level</th>\n",
       "      <th>Lead_Time</th>\n",
       "      <th>Stock_Turnover_Rate</th>\n",
       "      <th>Customer_Rating</th>\n",
       "      <th>Number_of_Reviews</th>\n",
       "      <th>Return_Rate</th>\n",
       "      <th>Marketing_Spend</th>\n",
       "      <th>Promotion_Effectiveness</th>\n",
       "      <th>Profit_Margin</th>\n",
       "      <th>Cost_of_Goods_Sold</th>\n",
       "      <th>Market_Competitiveness_Index</th>\n",
       "    </tr>\n",
       "  </thead>\n",
       "  <tbody>\n",
       "    <tr>\n",
       "      <th>0</th>\n",
       "      <td>1</td>\n",
       "      <td>5054</td>\n",
       "      <td>1460454.38</td>\n",
       "      <td>288.97</td>\n",
       "      <td>18.13</td>\n",
       "      <td>966</td>\n",
       "      <td>280</td>\n",
       "      <td>25</td>\n",
       "      <td>4.06</td>\n",
       "      <td>1.37</td>\n",
       "      <td>2331</td>\n",
       "      <td>16.94</td>\n",
       "      <td>1940.29</td>\n",
       "      <td>58.08</td>\n",
       "      <td>10.03</td>\n",
       "      <td>57.23</td>\n",
       "      <td>31.84</td>\n",
       "    </tr>\n",
       "    <tr>\n",
       "      <th>1</th>\n",
       "      <td>2</td>\n",
       "      <td>734</td>\n",
       "      <td>640642.54</td>\n",
       "      <td>872.81</td>\n",
       "      <td>37.97</td>\n",
       "      <td>501</td>\n",
       "      <td>346</td>\n",
       "      <td>10</td>\n",
       "      <td>9.53</td>\n",
       "      <td>1.24</td>\n",
       "      <td>3638</td>\n",
       "      <td>9.89</td>\n",
       "      <td>480032.21</td>\n",
       "      <td>52.70</td>\n",
       "      <td>46.03</td>\n",
       "      <td>469.39</td>\n",
       "      <td>78.51</td>\n",
       "    </tr>\n",
       "    <tr>\n",
       "      <th>2</th>\n",
       "      <td>3</td>\n",
       "      <td>6490</td>\n",
       "      <td>3936314.80</td>\n",
       "      <td>606.52</td>\n",
       "      <td>36.18</td>\n",
       "      <td>737</td>\n",
       "      <td>471</td>\n",
       "      <td>19</td>\n",
       "      <td>7.45</td>\n",
       "      <td>3.42</td>\n",
       "      <td>192</td>\n",
       "      <td>3.91</td>\n",
       "      <td>268122.98</td>\n",
       "      <td>35.10</td>\n",
       "      <td>9.95</td>\n",
       "      <td>639.50</td>\n",
       "      <td>47.76</td>\n",
       "    </tr>\n",
       "    <tr>\n",
       "      <th>3</th>\n",
       "      <td>4</td>\n",
       "      <td>3137</td>\n",
       "      <td>1743293.64</td>\n",
       "      <td>555.72</td>\n",
       "      <td>8.26</td>\n",
       "      <td>415</td>\n",
       "      <td>25</td>\n",
       "      <td>15</td>\n",
       "      <td>6.19</td>\n",
       "      <td>4.86</td>\n",
       "      <td>1616</td>\n",
       "      <td>14.73</td>\n",
       "      <td>350499.87</td>\n",
       "      <td>49.32</td>\n",
       "      <td>25.59</td>\n",
       "      <td>612.05</td>\n",
       "      <td>66.39</td>\n",
       "    </tr>\n",
       "    <tr>\n",
       "      <th>4</th>\n",
       "      <td>5</td>\n",
       "      <td>9917</td>\n",
       "      <td>1910311.71</td>\n",
       "      <td>192.63</td>\n",
       "      <td>21.34</td>\n",
       "      <td>136</td>\n",
       "      <td>499</td>\n",
       "      <td>20</td>\n",
       "      <td>1.98</td>\n",
       "      <td>3.01</td>\n",
       "      <td>3342</td>\n",
       "      <td>8.37</td>\n",
       "      <td>456385.98</td>\n",
       "      <td>36.51</td>\n",
       "      <td>25.78</td>\n",
       "      <td>670.24</td>\n",
       "      <td>17.36</td>\n",
       "    </tr>\n",
       "  </tbody>\n",
       "</table>\n",
       "</div>"
      ],
      "text/plain": [
       "   Product_ID  Total_Sales  Revenue_Generated  Average_Selling_Price  \\\n",
       "0           1         5054         1460454.38                 288.97   \n",
       "1           2          734          640642.54                 872.81   \n",
       "2           3         6490         3936314.80                 606.52   \n",
       "3           4         3137         1743293.64                 555.72   \n",
       "4           5         9917         1910311.71                 192.63   \n",
       "\n",
       "   Discount_Percentage  Stock_Available  Reorder_Level  Lead_Time  \\\n",
       "0                18.13              966            280         25   \n",
       "1                37.97              501            346         10   \n",
       "2                36.18              737            471         19   \n",
       "3                 8.26              415             25         15   \n",
       "4                21.34              136            499         20   \n",
       "\n",
       "   Stock_Turnover_Rate  Customer_Rating  Number_of_Reviews  Return_Rate  \\\n",
       "0                 4.06             1.37               2331        16.94   \n",
       "1                 9.53             1.24               3638         9.89   \n",
       "2                 7.45             3.42                192         3.91   \n",
       "3                 6.19             4.86               1616        14.73   \n",
       "4                 1.98             3.01               3342         8.37   \n",
       "\n",
       "   Marketing_Spend  Promotion_Effectiveness  Profit_Margin  \\\n",
       "0          1940.29                    58.08          10.03   \n",
       "1        480032.21                    52.70          46.03   \n",
       "2        268122.98                    35.10           9.95   \n",
       "3        350499.87                    49.32          25.59   \n",
       "4        456385.98                    36.51          25.78   \n",
       "\n",
       "   Cost_of_Goods_Sold  Market_Competitiveness_Index  \n",
       "0               57.23                         31.84  \n",
       "1              469.39                         78.51  \n",
       "2              639.50                         47.76  \n",
       "3              612.05                         66.39  \n",
       "4              670.24                         17.36  "
      ]
     },
     "execution_count": 4,
     "metadata": {},
     "output_type": "execute_result"
    }
   ],
   "source": [
    "# show the first 5 observation numerical data\n",
    "df_num.head()"
   ]
  },
  {
   "cell_type": "code",
   "execution_count": 5,
   "id": "e0d8deb1",
   "metadata": {},
   "outputs": [
    {
     "data": {
      "text/html": [
       "<div>\n",
       "<style scoped>\n",
       "    .dataframe tbody tr th:only-of-type {\n",
       "        vertical-align: middle;\n",
       "    }\n",
       "\n",
       "    .dataframe tbody tr th {\n",
       "        vertical-align: top;\n",
       "    }\n",
       "\n",
       "    .dataframe thead th {\n",
       "        text-align: right;\n",
       "    }\n",
       "</style>\n",
       "<table border=\"1\" class=\"dataframe\">\n",
       "  <thead>\n",
       "    <tr style=\"text-align: right;\">\n",
       "      <th></th>\n",
       "      <th>Product_Name</th>\n",
       "      <th>Category</th>\n",
       "      <th>Brand</th>\n",
       "      <th>SKU</th>\n",
       "      <th>Peak_Sales_Period</th>\n",
       "      <th>Sales_Channel</th>\n",
       "      <th>Top_Buying_Demographic</th>\n",
       "      <th>Cross_Selling_Performance</th>\n",
       "    </tr>\n",
       "  </thead>\n",
       "  <tbody>\n",
       "    <tr>\n",
       "      <th>0</th>\n",
       "      <td>Samsung Product</td>\n",
       "      <td>Home &amp; Kitchen</td>\n",
       "      <td>Samsung</td>\n",
       "      <td>SKU25795</td>\n",
       "      <td>Summer Sale</td>\n",
       "      <td>In-store</td>\n",
       "      <td>All Ages</td>\n",
       "      <td>Medium</td>\n",
       "    </tr>\n",
       "    <tr>\n",
       "      <th>1</th>\n",
       "      <td>Nike Product</td>\n",
       "      <td>Electronics</td>\n",
       "      <td>Nike</td>\n",
       "      <td>SKU10860</td>\n",
       "      <td>Summer Sale</td>\n",
       "      <td>In-store</td>\n",
       "      <td>Young Adults</td>\n",
       "      <td>Low</td>\n",
       "    </tr>\n",
       "    <tr>\n",
       "      <th>2</th>\n",
       "      <td>Apple Product</td>\n",
       "      <td>Apparel</td>\n",
       "      <td>Apple</td>\n",
       "      <td>SKU86820</td>\n",
       "      <td>Regular</td>\n",
       "      <td>Online</td>\n",
       "      <td>All Ages</td>\n",
       "      <td>Medium</td>\n",
       "    </tr>\n",
       "    <tr>\n",
       "      <th>3</th>\n",
       "      <td>Sports Jacket</td>\n",
       "      <td>Apparel</td>\n",
       "      <td>Adidas</td>\n",
       "      <td>SKU64886</td>\n",
       "      <td>Back to School</td>\n",
       "      <td>In-store</td>\n",
       "      <td>Teens</td>\n",
       "      <td>High</td>\n",
       "    </tr>\n",
       "    <tr>\n",
       "      <th>4</th>\n",
       "      <td>Bravia TV</td>\n",
       "      <td>Electronics</td>\n",
       "      <td>Sony</td>\n",
       "      <td>SKU16265</td>\n",
       "      <td>Holiday Season</td>\n",
       "      <td>Online</td>\n",
       "      <td>Seniors</td>\n",
       "      <td>Medium</td>\n",
       "    </tr>\n",
       "  </tbody>\n",
       "</table>\n",
       "</div>"
      ],
      "text/plain": [
       "      Product_Name        Category    Brand       SKU Peak_Sales_Period  \\\n",
       "0  Samsung Product  Home & Kitchen  Samsung  SKU25795       Summer Sale   \n",
       "1     Nike Product     Electronics     Nike  SKU10860       Summer Sale   \n",
       "2    Apple Product         Apparel    Apple  SKU86820           Regular   \n",
       "3    Sports Jacket         Apparel   Adidas  SKU64886    Back to School   \n",
       "4        Bravia TV     Electronics     Sony  SKU16265    Holiday Season   \n",
       "\n",
       "  Sales_Channel Top_Buying_Demographic Cross_Selling_Performance  \n",
       "0      In-store               All Ages                    Medium  \n",
       "1      In-store           Young Adults                       Low  \n",
       "2        Online               All Ages                    Medium  \n",
       "3      In-store                  Teens                      High  \n",
       "4        Online                Seniors                    Medium  "
      ]
     },
     "execution_count": 5,
     "metadata": {},
     "output_type": "execute_result"
    }
   ],
   "source": [
    "# show the first 5 observation Categorical data\n",
    "df_cat.head()"
   ]
  },
  {
   "cell_type": "markdown",
   "id": "1ff11823",
   "metadata": {},
   "source": [
    "### Perform on Univariate Analysis on Numerical Data"
   ]
  },
  {
   "cell_type": "code",
   "execution_count": 6,
   "id": "3eedbcd5",
   "metadata": {},
   "outputs": [
    {
     "data": {
      "text/plain": [
       "Index(['Product_ID', 'Total_Sales', 'Revenue_Generated',\n",
       "       'Average_Selling_Price', 'Discount_Percentage', 'Stock_Available',\n",
       "       'Reorder_Level', 'Lead_Time', 'Stock_Turnover_Rate', 'Customer_Rating',\n",
       "       'Number_of_Reviews', 'Return_Rate', 'Marketing_Spend',\n",
       "       'Promotion_Effectiveness', 'Profit_Margin', 'Cost_of_Goods_Sold',\n",
       "       'Market_Competitiveness_Index'],\n",
       "      dtype='object')"
      ]
     },
     "execution_count": 6,
     "metadata": {},
     "output_type": "execute_result"
    }
   ],
   "source": [
    "# Show the Numerical Columns\n",
    "df_num.columns\n",
    "    "
   ]
  },
  {
   "cell_type": "markdown",
   "id": "458f5941",
   "metadata": {},
   "source": [
    "#### Product_ID"
   ]
  },
  {
   "cell_type": "code",
   "execution_count": 7,
   "id": "274b23c3",
   "metadata": {},
   "outputs": [
    {
     "data": {
      "text/plain": [
       "1"
      ]
     },
     "execution_count": 7,
     "metadata": {},
     "output_type": "execute_result"
    }
   ],
   "source": [
    "# Show the minimum\n",
    "df_num.Product_ID.min()"
   ]
  },
  {
   "cell_type": "code",
   "execution_count": 8,
   "id": "d51f4f47",
   "metadata": {},
   "outputs": [
    {
     "data": {
      "text/plain": [
       "25000"
      ]
     },
     "execution_count": 8,
     "metadata": {},
     "output_type": "execute_result"
    }
   ],
   "source": [
    "# Show the maximum \n",
    "df_num.Product_ID.max()"
   ]
  },
  {
   "cell_type": "code",
   "execution_count": null,
   "id": "afdc3880",
   "metadata": {},
   "outputs": [],
   "source": []
  },
  {
   "cell_type": "code",
   "execution_count": 9,
   "id": "5b674766",
   "metadata": {},
   "outputs": [
    {
     "name": "stdout",
     "output_type": "stream",
     "text": [
      "mean is 12500.50\n"
     ]
    }
   ],
   "source": [
    "#Show the Average \n",
    "\n",
    "res = df_num.Product_ID.mean()\n",
    "print(f\"mean is {res:.2f}\")\n"
   ]
  },
  {
   "cell_type": "code",
   "execution_count": 61,
   "id": "22530d95",
   "metadata": {},
   "outputs": [
    {
     "data": {
      "image/png": "[encoded data removed]",
      "text/plain": [
       "<Figure size 640x480 with 1 Axes>"
      ]
     },
     "metadata": {},
     "output_type": "display_data"
    }
   ],
   "source": [
    "# Show the Distribution of the Single Numerical Columns\n",
    "df_num.Product_ID.plot(kind='kde', color=\"Darkblue\") #internal density plot\n",
    "plt.grid()\n",
    "plt.title('Distribution of Product_ID')\n",
    "plt.show()"
   ]
  },
  {
   "cell_type": "markdown",
   "id": "faf061c8",
   "metadata": {},
   "source": [
    "**Interpretation**\n",
    " - Minimum Product_ID is -10000 to 30000\n",
    " - Maximum Product_ID is 0 to 24000\n",
    " - Mean Product_Id is 12500\n"
   ]
  },
  {
   "cell_type": "code",
   "execution_count": 11,
   "id": "1c8b0c00",
   "metadata": {},
   "outputs": [
    {
     "data": {
      "text/plain": [
       "Index(['Product_ID', 'Total_Sales', 'Revenue_Generated',\n",
       "       'Average_Selling_Price', 'Discount_Percentage', 'Stock_Available',\n",
       "       'Reorder_Level', 'Lead_Time', 'Stock_Turnover_Rate', 'Customer_Rating',\n",
       "       'Number_of_Reviews', 'Return_Rate', 'Marketing_Spend',\n",
       "       'Promotion_Effectiveness', 'Profit_Margin', 'Cost_of_Goods_Sold',\n",
       "       'Market_Competitiveness_Index'],\n",
       "      dtype='object')"
      ]
     },
     "execution_count": 11,
     "metadata": {},
     "output_type": "execute_result"
    }
   ],
   "source": [
    "# Show the Numerical Columns\n",
    "df_num.columns"
   ]
  },
  {
   "cell_type": "markdown",
   "id": "f0711810",
   "metadata": {},
   "source": [
    "### Total_Sales"
   ]
  },
  {
   "cell_type": "code",
   "execution_count": 12,
   "id": "df79b8a0",
   "metadata": {},
   "outputs": [
    {
     "data": {
      "text/plain": [
       "50"
      ]
     },
     "execution_count": 12,
     "metadata": {},
     "output_type": "execute_result"
    }
   ],
   "source": [
    "# Show the minimum\n",
    "df_num.Total_Sales.min()"
   ]
  },
  {
   "cell_type": "code",
   "execution_count": 13,
   "id": "b5155a8f",
   "metadata": {},
   "outputs": [
    {
     "data": {
      "text/plain": [
       "9999"
      ]
     },
     "execution_count": 13,
     "metadata": {},
     "output_type": "execute_result"
    }
   ],
   "source": [
    "# Show the maximum \n",
    "df_num.Total_Sales.max()"
   ]
  },
  {
   "cell_type": "code",
   "execution_count": 14,
   "id": "426cd209",
   "metadata": {},
   "outputs": [
    {
     "name": "stdout",
     "output_type": "stream",
     "text": [
      "mean is 5007.87\n"
     ]
    }
   ],
   "source": [
    "#Show the Average \n",
    "\n",
    "res = df_num.Total_Sales.mean()\n",
    "print(f\"mean is {res:.2f}\")"
   ]
  },
  {
   "cell_type": "code",
   "execution_count": 15,
   "id": "297b2fef",
   "metadata": {},
   "outputs": [
    {
     "data": {
      "image/png": "[encoded data removed]",
      "text/plain": [
       "<Figure size 640x480 with 1 Axes>"
      ]
     },
     "metadata": {},
     "output_type": "display_data"
    }
   ],
   "source": [
    "# Show the Distribution of the Single Numerical Columns\n",
    "df_num.Total_Sales.plot(kind='kde', color=\"Darkblue\") #internal density plot\n",
    "plt.grid()\n",
    "plt.title('Distribution of Total_Sales')\n",
    "plt.show()"
   ]
  },
  {
   "cell_type": "markdown",
   "id": "2706db46",
   "metadata": {},
   "source": [
    "**Interpretation**\n",
    "\n",
    " - Minimum Total_Sales is 50\n",
    " - Maximum Total_Sales is 9999\n",
    " - Mean Total_Sales is 5007.87"
   ]
  },
  {
   "cell_type": "code",
   "execution_count": 16,
   "id": "c4e3f4b9",
   "metadata": {},
   "outputs": [
    {
     "data": {
      "text/plain": [
       "Index(['Product_ID', 'Total_Sales', 'Revenue_Generated',\n",
       "       'Average_Selling_Price', 'Discount_Percentage', 'Stock_Available',\n",
       "       'Reorder_Level', 'Lead_Time', 'Stock_Turnover_Rate', 'Customer_Rating',\n",
       "       'Number_of_Reviews', 'Return_Rate', 'Marketing_Spend',\n",
       "       'Promotion_Effectiveness', 'Profit_Margin', 'Cost_of_Goods_Sold',\n",
       "       'Market_Competitiveness_Index'],\n",
       "      dtype='object')"
      ]
     },
     "execution_count": 16,
     "metadata": {},
     "output_type": "execute_result"
    }
   ],
   "source": [
    "# Show the Numerical Columns\n",
    "df_num.columns"
   ]
  },
  {
   "cell_type": "markdown",
   "id": "1acdde70",
   "metadata": {},
   "source": [
    "#### Revenue_Generated"
   ]
  },
  {
   "cell_type": "code",
   "execution_count": 17,
   "id": "800111fa",
   "metadata": {},
   "outputs": [
    {
     "data": {
      "text/plain": [
       "631.04"
      ]
     },
     "execution_count": 17,
     "metadata": {},
     "output_type": "execute_result"
    }
   ],
   "source": [
    "# Show the minimum\n",
    "df_num.Revenue_Generated.min()"
   ]
  },
  {
   "cell_type": "code",
   "execution_count": 18,
   "id": "4033f049",
   "metadata": {},
   "outputs": [
    {
     "data": {
      "text/plain": [
       "9977103.99"
      ]
     },
     "execution_count": 18,
     "metadata": {},
     "output_type": "execute_result"
    }
   ],
   "source": [
    "# Show the maximum \n",
    "df_num.Revenue_Generated.max()"
   ]
  },
  {
   "cell_type": "code",
   "execution_count": 19,
   "id": "5dd722a7",
   "metadata": {},
   "outputs": [
    {
     "name": "stdout",
     "output_type": "stream",
     "text": [
      "mean is 2533693.63\n"
     ]
    }
   ],
   "source": [
    "#Show the Average \n",
    "\n",
    "res = df_num.Revenue_Generated.mean()\n",
    "print(f\"mean is {res:.2f}\")"
   ]
  },
  {
   "cell_type": "code",
   "execution_count": 20,
   "id": "591be0e5",
   "metadata": {},
   "outputs": [
    {
     "data": {
      "image/png": "[encoded data removed]",
      "text/plain": [
       "<Figure size 640x480 with 1 Axes>"
      ]
     },
     "metadata": {},
     "output_type": "display_data"
    }
   ],
   "source": [
    "# Show the Distribution of the Single Numerical Columns\n",
    "df_num.Revenue_Generated.plot(kind='kde', color=\"Darkblue\") #internal density plot\n",
    "plt.grid()\n",
    "plt.title('Distribution of Revenue_Generated')\n",
    "plt.show()"
   ]
  },
  {
   "cell_type": "markdown",
   "id": "62205e17",
   "metadata": {},
   "source": [
    "**Interpretation**\n",
    "\n",
    " - Minimum Revenue_Generated is 631.04\n",
    " - Maximum Revenue_Generated is 9977103.99\n",
    " - Mean Revenue_Generated is 2533693.63"
   ]
  },
  {
   "cell_type": "code",
   "execution_count": 21,
   "id": "fdbe4dbc",
   "metadata": {},
   "outputs": [
    {
     "data": {
      "text/plain": [
       "Index(['Product_ID', 'Total_Sales', 'Revenue_Generated',\n",
       "       'Average_Selling_Price', 'Discount_Percentage', 'Stock_Available',\n",
       "       'Reorder_Level', 'Lead_Time', 'Stock_Turnover_Rate', 'Customer_Rating',\n",
       "       'Number_of_Reviews', 'Return_Rate', 'Marketing_Spend',\n",
       "       'Promotion_Effectiveness', 'Profit_Margin', 'Cost_of_Goods_Sold',\n",
       "       'Market_Competitiveness_Index'],\n",
       "      dtype='object')"
      ]
     },
     "execution_count": 21,
     "metadata": {},
     "output_type": "execute_result"
    }
   ],
   "source": [
    "# Show the Numerical Columns\n",
    "df_num.columns"
   ]
  },
  {
   "cell_type": "markdown",
   "id": "b4bdca6c",
   "metadata": {},
   "source": [
    "####  Average_Selling_Price"
   ]
  },
  {
   "cell_type": "code",
   "execution_count": 22,
   "id": "723494d9",
   "metadata": {},
   "outputs": [
    {
     "data": {
      "text/plain": [
       "5.049999999999999"
      ]
     },
     "execution_count": 22,
     "metadata": {},
     "output_type": "execute_result"
    }
   ],
   "source": [
    "# Show the minimum\n",
    "df_num.Average_Selling_Price.min()"
   ]
  },
  {
   "cell_type": "code",
   "execution_count": 23,
   "id": "8ccf334a",
   "metadata": {},
   "outputs": [
    {
     "data": {
      "text/plain": [
       "999.9"
      ]
     },
     "execution_count": 23,
     "metadata": {},
     "output_type": "execute_result"
    }
   ],
   "source": [
    "# Show the maximum \n",
    "df_num.Average_Selling_Price.max()"
   ]
  },
  {
   "cell_type": "code",
   "execution_count": 24,
   "id": "274b7e1f",
   "metadata": {},
   "outputs": [
    {
     "name": "stdout",
     "output_type": "stream",
     "text": [
      "mean is 506.22\n"
     ]
    }
   ],
   "source": [
    "#Show the Average \n",
    "\n",
    "res = df_num.Average_Selling_Price.mean()\n",
    "print(f\"mean is {res:.2f}\")"
   ]
  },
  {
   "cell_type": "code",
   "execution_count": 25,
   "id": "51f4a811",
   "metadata": {},
   "outputs": [
    {
     "data": {
      "image/png": "[encoded data removed]",
      "text/plain": [
       "<Figure size 640x480 with 1 Axes>"
      ]
     },
     "metadata": {},
     "output_type": "display_data"
    }
   ],
   "source": [
    "# Show the Distribution of the Single Numerical Columns\n",
    "df_num.Average_Selling_Price.plot(kind='kde', color=\"Darkblue\") #internal density plot\n",
    "plt.grid()\n",
    "plt.title('Distribution of Average_Selling_Prize')\n",
    "plt.show()"
   ]
  },
  {
   "cell_type": "markdown",
   "id": "99829f61",
   "metadata": {},
   "source": [
    "**Interpretation**\n",
    "\n",
    " - Minimum Revenue_Generated is 5.049999999999999\n",
    " - Maximum Revenue_Generated is 999.9\n",
    " - Mean Revenue_Generated is 506.22"
   ]
  },
  {
   "cell_type": "code",
   "execution_count": 26,
   "id": "7687f908",
   "metadata": {},
   "outputs": [
    {
     "data": {
      "text/plain": [
       "Index(['Product_ID', 'Total_Sales', 'Revenue_Generated',\n",
       "       'Average_Selling_Price', 'Discount_Percentage', 'Stock_Available',\n",
       "       'Reorder_Level', 'Lead_Time', 'Stock_Turnover_Rate', 'Customer_Rating',\n",
       "       'Number_of_Reviews', 'Return_Rate', 'Marketing_Spend',\n",
       "       'Promotion_Effectiveness', 'Profit_Margin', 'Cost_of_Goods_Sold',\n",
       "       'Market_Competitiveness_Index'],\n",
       "      dtype='object')"
      ]
     },
     "execution_count": 26,
     "metadata": {},
     "output_type": "execute_result"
    }
   ],
   "source": [
    "# Show the Numerical Columns\n",
    "df_num.columns"
   ]
  },
  {
   "cell_type": "markdown",
   "id": "79403dfa",
   "metadata": {},
   "source": [
    "#### Discount_Percentage"
   ]
  },
  {
   "cell_type": "code",
   "execution_count": 27,
   "id": "1c84de66",
   "metadata": {},
   "outputs": [
    {
     "data": {
      "text/plain": [
       "0.01"
      ]
     },
     "execution_count": 27,
     "metadata": {},
     "output_type": "execute_result"
    }
   ],
   "source": [
    "# Show the minimum\n",
    "df_num.Discount_Percentage.min()"
   ]
  },
  {
   "cell_type": "code",
   "execution_count": 28,
   "id": "29c50d96",
   "metadata": {},
   "outputs": [
    {
     "data": {
      "text/plain": [
       "49.99"
      ]
     },
     "execution_count": 28,
     "metadata": {},
     "output_type": "execute_result"
    }
   ],
   "source": [
    "# Show the maximum \n",
    "df_num.Discount_Percentage.max()"
   ]
  },
  {
   "cell_type": "code",
   "execution_count": 29,
   "id": "0adeb7c6",
   "metadata": {},
   "outputs": [
    {
     "name": "stdout",
     "output_type": "stream",
     "text": [
      "mean is 25.00\n"
     ]
    }
   ],
   "source": [
    "#Show the Average \n",
    "\n",
    "res = df_num.Discount_Percentage.mean()\n",
    "print(f\"mean is {res:.2f}\")"
   ]
  },
  {
   "cell_type": "code",
   "execution_count": 30,
   "id": "12386548",
   "metadata": {},
   "outputs": [
    {
     "data": {
      "image/png": "[encoded data removed]",
      "text/plain": [
       "<Figure size 640x480 with 1 Axes>"
      ]
     },
     "metadata": {},
     "output_type": "display_data"
    }
   ],
   "source": [
    "# Show the Distribution of the Single Numerical Columns\n",
    "df_num.Discount_Percentage.plot(kind='kde', color=\"Darkblue\") #internal density plot\n",
    "plt.grid()\n",
    "plt.title('Distribution of Discount_Percentage')\n",
    "plt.show()"
   ]
  },
  {
   "cell_type": "markdown",
   "id": "d02943fd",
   "metadata": {},
   "source": [
    "**Interpretation**\n",
    "\n",
    " - Minimum Discount_Percentage is 0.01\n",
    " - Maximum Discount_Percentage is 49.9\n",
    " - Mean Discount_Percentage is 25.00"
   ]
  },
  {
   "cell_type": "code",
   "execution_count": 31,
   "id": "180d64c4",
   "metadata": {},
   "outputs": [
    {
     "data": {
      "text/plain": [
       "Index(['Product_ID', 'Total_Sales', 'Revenue_Generated',\n",
       "       'Average_Selling_Price', 'Discount_Percentage', 'Stock_Available',\n",
       "       'Reorder_Level', 'Lead_Time', 'Stock_Turnover_Rate', 'Customer_Rating',\n",
       "       'Number_of_Reviews', 'Return_Rate', 'Marketing_Spend',\n",
       "       'Promotion_Effectiveness', 'Profit_Margin', 'Cost_of_Goods_Sold',\n",
       "       'Market_Competitiveness_Index'],\n",
       "      dtype='object')"
      ]
     },
     "execution_count": 31,
     "metadata": {},
     "output_type": "execute_result"
    }
   ],
   "source": [
    "# Show the Numerical Columns\n",
    "df_num.columns"
   ]
  },
  {
   "cell_type": "markdown",
   "id": "08dc9b72",
   "metadata": {},
   "source": [
    "#### Stock_Available"
   ]
  },
  {
   "cell_type": "code",
   "execution_count": 32,
   "id": "106cbac9",
   "metadata": {},
   "outputs": [
    {
     "data": {
      "text/plain": [
       "0"
      ]
     },
     "execution_count": 32,
     "metadata": {},
     "output_type": "execute_result"
    }
   ],
   "source": [
    "# Show the minimum\n",
    "df_num.Stock_Available.min()"
   ]
  },
  {
   "cell_type": "code",
   "execution_count": 33,
   "id": "bf4da650",
   "metadata": {},
   "outputs": [
    {
     "data": {
      "text/plain": [
       "999"
      ]
     },
     "execution_count": 33,
     "metadata": {},
     "output_type": "execute_result"
    }
   ],
   "source": [
    "# Show the maximum \n",
    "df_num.Stock_Available.max()"
   ]
  },
  {
   "cell_type": "code",
   "execution_count": 34,
   "id": "f23aec3b",
   "metadata": {},
   "outputs": [
    {
     "name": "stdout",
     "output_type": "stream",
     "text": [
      "mean is 500.61\n"
     ]
    }
   ],
   "source": [
    "#Show the Average \n",
    "\n",
    "res = df_num.Stock_Available.mean()\n",
    "print(f\"mean is {res:.2f}\")"
   ]
  },
  {
   "cell_type": "code",
   "execution_count": 35,
   "id": "dc76192c",
   "metadata": {},
   "outputs": [
    {
     "data": {
      "image/png": "[encoded data removed]",
      "text/plain": [
       "<Figure size 640x480 with 1 Axes>"
      ]
     },
     "metadata": {},
     "output_type": "display_data"
    }
   ],
   "source": [
    "# Show the Distribution of the Single Numerical Columns\n",
    "df_num.Stock_Available.plot(kind='kde', color=\"Darkblue\") #internal density plot\n",
    "plt.grid()\n",
    "plt.title('Distribution of Stock_Available')\n",
    "plt.show()"
   ]
  },
  {
   "cell_type": "markdown",
   "id": "1a83b834",
   "metadata": {},
   "source": [
    "**Interpretation**\n",
    "\n",
    " - Minimum Stock_Available is 0\n",
    " - Maximum Stock_Available is 999\n",
    " - Mean Stock_Available is 500.61"
   ]
  },
  {
   "cell_type": "code",
   "execution_count": 36,
   "id": "7608a2e5",
   "metadata": {},
   "outputs": [
    {
     "data": {
      "text/plain": [
       "Index(['Product_ID', 'Total_Sales', 'Revenue_Generated',\n",
       "       'Average_Selling_Price', 'Discount_Percentage', 'Stock_Available',\n",
       "       'Reorder_Level', 'Lead_Time', 'Stock_Turnover_Rate', 'Customer_Rating',\n",
       "       'Number_of_Reviews', 'Return_Rate', 'Marketing_Spend',\n",
       "       'Promotion_Effectiveness', 'Profit_Margin', 'Cost_of_Goods_Sold',\n",
       "       'Market_Competitiveness_Index'],\n",
       "      dtype='object')"
      ]
     },
     "execution_count": 36,
     "metadata": {},
     "output_type": "execute_result"
    }
   ],
   "source": [
    "# Show the Numerical Columns\n",
    "df_num.columns"
   ]
  },
  {
   "cell_type": "markdown",
   "id": "a02b921d",
   "metadata": {},
   "source": [
    "#### Reorder_Level"
   ]
  },
  {
   "cell_type": "code",
   "execution_count": 37,
   "id": "b8763857",
   "metadata": {},
   "outputs": [
    {
     "data": {
      "text/plain": [
       "10"
      ]
     },
     "execution_count": 37,
     "metadata": {},
     "output_type": "execute_result"
    }
   ],
   "source": [
    "# Show the minimum\n",
    "df_num.Reorder_Level.min()"
   ]
  },
  {
   "cell_type": "code",
   "execution_count": 38,
   "id": "967729d0",
   "metadata": {},
   "outputs": [
    {
     "data": {
      "text/plain": [
       "499"
      ]
     },
     "execution_count": 38,
     "metadata": {},
     "output_type": "execute_result"
    }
   ],
   "source": [
    "# Show the maximum \n",
    "df_num.Reorder_Level.max()"
   ]
  },
  {
   "cell_type": "code",
   "execution_count": 39,
   "id": "66f17ca0",
   "metadata": {},
   "outputs": [
    {
     "name": "stdout",
     "output_type": "stream",
     "text": [
      "mean is 253.82\n"
     ]
    }
   ],
   "source": [
    "#Show the Average \n",
    "\n",
    "res = df_num.Reorder_Level.mean()\n",
    "print(f\"mean is {res:.2f}\")"
   ]
  },
  {
   "cell_type": "code",
   "execution_count": 40,
   "id": "81ba5422",
   "metadata": {},
   "outputs": [
    {
     "data": {
      "image/png": "[encoded data removed]",
      "text/plain": [
       "<Figure size 640x480 with 1 Axes>"
      ]
     },
     "metadata": {},
     "output_type": "display_data"
    }
   ],
   "source": [
    "# Show the Distribution of the Single Numerical Columns\n",
    "df_num.Reorder_Level.plot(kind='kde', color=\"Darkblue\") #internal density plot\n",
    "plt.grid()\n",
    "plt.title('Distribution of Reorder_Level')\n",
    "plt.show()"
   ]
  },
  {
   "cell_type": "markdown",
   "id": "ce72439d",
   "metadata": {},
   "source": [
    "**Interpretation**\n",
    "\n",
    " - Minimum Reorder_Level is 10\n",
    " - Maximum Reorder_Level is 499\n",
    " - Mean Reorder_Level is 253.82"
   ]
  },
  {
   "cell_type": "code",
   "execution_count": 41,
   "id": "38e144bf",
   "metadata": {},
   "outputs": [
    {
     "data": {
      "text/plain": [
       "Index(['Product_ID', 'Total_Sales', 'Revenue_Generated',\n",
       "       'Average_Selling_Price', 'Discount_Percentage', 'Stock_Available',\n",
       "       'Reorder_Level', 'Lead_Time', 'Stock_Turnover_Rate', 'Customer_Rating',\n",
       "       'Number_of_Reviews', 'Return_Rate', 'Marketing_Spend',\n",
       "       'Promotion_Effectiveness', 'Profit_Margin', 'Cost_of_Goods_Sold',\n",
       "       'Market_Competitiveness_Index'],\n",
       "      dtype='object')"
      ]
     },
     "execution_count": 41,
     "metadata": {},
     "output_type": "execute_result"
    }
   ],
   "source": [
    "# Show the Numerical Columns\n",
    "df_num.columns"
   ]
  },
  {
   "cell_type": "markdown",
   "id": "45086ff3",
   "metadata": {},
   "source": [
    "#### Lead_Time"
   ]
  },
  {
   "cell_type": "code",
   "execution_count": 42,
   "id": "f3fc26bb",
   "metadata": {},
   "outputs": [
    {
     "data": {
      "text/plain": [
       "2"
      ]
     },
     "execution_count": 42,
     "metadata": {},
     "output_type": "execute_result"
    }
   ],
   "source": [
    "# Show the minimum\n",
    "df_num.Lead_Time.min()"
   ]
  },
  {
   "cell_type": "code",
   "execution_count": 43,
   "id": "79643c72",
   "metadata": {},
   "outputs": [
    {
     "data": {
      "text/plain": [
       "29"
      ]
     },
     "execution_count": 43,
     "metadata": {},
     "output_type": "execute_result"
    }
   ],
   "source": [
    "# Show the maximum \n",
    "df_num.Lead_Time.max()"
   ]
  },
  {
   "cell_type": "code",
   "execution_count": 44,
   "id": "80ebedcc",
   "metadata": {},
   "outputs": [
    {
     "name": "stdout",
     "output_type": "stream",
     "text": [
      "mean is 15.44\n"
     ]
    }
   ],
   "source": [
    "#Show the Average \n",
    "\n",
    "res = df_num.Lead_Time.mean()\n",
    "print(f\"mean is {res:.2f}\")"
   ]
  },
  {
   "cell_type": "code",
   "execution_count": 45,
   "id": "9354c4b8",
   "metadata": {},
   "outputs": [
    {
     "data": {
      "image/png": "[encoded data removed]",
      "text/plain": [
       "<Figure size 640x480 with 1 Axes>"
      ]
     },
     "metadata": {},
     "output_type": "display_data"
    }
   ],
   "source": [
    "# Show the Distribution of the Single Numerical Columns\n",
    "df_num.Lead_Time.plot(kind='kde', color=\"Darkblue\") #internal density plot\n",
    "plt.grid()\n",
    "plt.title('Distribution of Lead_Time')\n",
    "plt.show()"
   ]
  },
  {
   "cell_type": "markdown",
   "id": "056e8651",
   "metadata": {},
   "source": [
    "**Interpretation**\n",
    "\n",
    " - Minimum Lead_Time is 2\n",
    " - Maximum Lead_Time is 29\n",
    " - Mean Lead_Time is 15.44"
   ]
  },
  {
   "cell_type": "code",
   "execution_count": 46,
   "id": "05db8d73",
   "metadata": {},
   "outputs": [
    {
     "data": {
      "text/plain": [
       "Index(['Product_ID', 'Total_Sales', 'Revenue_Generated',\n",
       "       'Average_Selling_Price', 'Discount_Percentage', 'Stock_Available',\n",
       "       'Reorder_Level', 'Lead_Time', 'Stock_Turnover_Rate', 'Customer_Rating',\n",
       "       'Number_of_Reviews', 'Return_Rate', 'Marketing_Spend',\n",
       "       'Promotion_Effectiveness', 'Profit_Margin', 'Cost_of_Goods_Sold',\n",
       "       'Market_Competitiveness_Index'],\n",
       "      dtype='object')"
      ]
     },
     "execution_count": 46,
     "metadata": {},
     "output_type": "execute_result"
    }
   ],
   "source": [
    "# Show the Numerical Columns\n",
    "df_num.columns"
   ]
  },
  {
   "cell_type": "markdown",
   "id": "2bf2a344",
   "metadata": {},
   "source": [
    "#### Stock_Turnover_Rate"
   ]
  },
  {
   "cell_type": "code",
   "execution_count": 47,
   "id": "f5662def",
   "metadata": {},
   "outputs": [
    {
     "data": {
      "text/plain": [
       "0.5"
      ]
     },
     "execution_count": 47,
     "metadata": {},
     "output_type": "execute_result"
    }
   ],
   "source": [
    "# Show the minimum\n",
    "df_num.Stock_Turnover_Rate.min()"
   ]
  },
  {
   "cell_type": "code",
   "execution_count": 48,
   "id": "3015317d",
   "metadata": {},
   "outputs": [
    {
     "data": {
      "text/plain": [
       "10.0"
      ]
     },
     "execution_count": 48,
     "metadata": {},
     "output_type": "execute_result"
    }
   ],
   "source": [
    "# Show the maximum \n",
    "df_num.Stock_Turnover_Rate.max()"
   ]
  },
  {
   "cell_type": "code",
   "execution_count": 49,
   "id": "5f54f50b",
   "metadata": {},
   "outputs": [
    {
     "name": "stdout",
     "output_type": "stream",
     "text": [
      "mean is 5.26\n"
     ]
    }
   ],
   "source": [
    "#Show the Average \n",
    "\n",
    "res = df_num.Stock_Turnover_Rate.mean()\n",
    "print(f\"mean is {res:.2f}\")"
   ]
  },
  {
   "cell_type": "code",
   "execution_count": 50,
   "id": "61d5bc5d",
   "metadata": {},
   "outputs": [
    {
     "data": {
      "image/png": "[encoded data removed]",
      "text/plain": [
       "<Figure size 640x480 with 1 Axes>"
      ]
     },
     "metadata": {},
     "output_type": "display_data"
    }
   ],
   "source": [
    "# Show the Distribution of the Single Numerical Columns\n",
    "df_num.Stock_Turnover_Rate.plot(kind='kde', color=\"Darkblue\") #internal density plot\n",
    "plt.grid()\n",
    "plt.title('Distribution of Stock_Turnover_Rate')\n",
    "plt.show()"
   ]
  },
  {
   "cell_type": "markdown",
   "id": "02ad72be",
   "metadata": {},
   "source": [
    "**Interpretation**\n",
    "\n",
    " - Minimum Stock_Turnover_Rate is 0.5\n",
    " - Maximum Stock_Turnover_Rate is 10.0\n",
    " - Mean Stock_Turnover_Rate is 5.26"
   ]
  },
  {
   "cell_type": "code",
   "execution_count": 51,
   "id": "a1d4ac6a",
   "metadata": {},
   "outputs": [
    {
     "data": {
      "text/plain": [
       "Index(['Product_ID', 'Total_Sales', 'Revenue_Generated',\n",
       "       'Average_Selling_Price', 'Discount_Percentage', 'Stock_Available',\n",
       "       'Reorder_Level', 'Lead_Time', 'Stock_Turnover_Rate', 'Customer_Rating',\n",
       "       'Number_of_Reviews', 'Return_Rate', 'Marketing_Spend',\n",
       "       'Promotion_Effectiveness', 'Profit_Margin', 'Cost_of_Goods_Sold',\n",
       "       'Market_Competitiveness_Index'],\n",
       "      dtype='object')"
      ]
     },
     "execution_count": 51,
     "metadata": {},
     "output_type": "execute_result"
    }
   ],
   "source": [
    "# Show the Numerical Columns\n",
    "df_num.columns"
   ]
  },
  {
   "cell_type": "markdown",
   "id": "78b3d909",
   "metadata": {},
   "source": [
    "#### Customer_Rating\n"
   ]
  },
  {
   "cell_type": "code",
   "execution_count": 52,
   "id": "2c3c4ad8",
   "metadata": {},
   "outputs": [
    {
     "data": {
      "text/plain": [
       "1.0"
      ]
     },
     "execution_count": 52,
     "metadata": {},
     "output_type": "execute_result"
    }
   ],
   "source": [
    "# Show the minimum\n",
    "df_num.Customer_Rating.min()"
   ]
  },
  {
   "cell_type": "code",
   "execution_count": 53,
   "id": "5f582ac0",
   "metadata": {},
   "outputs": [
    {
     "data": {
      "text/plain": [
       "5.0"
      ]
     },
     "execution_count": 53,
     "metadata": {},
     "output_type": "execute_result"
    }
   ],
   "source": [
    "# Show the maximum \n",
    "df_num.Customer_Rating.max()"
   ]
  },
  {
   "cell_type": "code",
   "execution_count": 54,
   "id": "be37183a",
   "metadata": {},
   "outputs": [
    {
     "name": "stdout",
     "output_type": "stream",
     "text": [
      "mean is 2.99\n"
     ]
    }
   ],
   "source": [
    "#Show the Average \n",
    "\n",
    "res = df_num.Customer_Rating.mean()\n",
    "print(f\"mean is {res:.2f}\")"
   ]
  },
  {
   "cell_type": "code",
   "execution_count": 55,
   "id": "072d76ca",
   "metadata": {},
   "outputs": [
    {
     "data": {
      "image/png": "[encoded data removed]",
      "text/plain": [
       "<Figure size 640x480 with 1 Axes>"
      ]
     },
     "metadata": {},
     "output_type": "display_data"
    }
   ],
   "source": [
    "# Show the Distribution of the Single Numerical Columns\n",
    "df_num.Customer_Rating.plot(kind='kde', color=\"Darkblue\") #internal density plot\n",
    "plt.grid()\n",
    "plt.title('Distribution of Customer_Rating')\n",
    "plt.show()"
   ]
  },
  {
   "cell_type": "markdown",
   "id": "ebeeb8ee",
   "metadata": {},
   "source": [
    "**Interpretation**\n",
    "\n",
    " - Minimum Customer_Rating is 1.0\n",
    " - Maximum Customer_Rating is 5.0\n",
    " - Mean Customer_Rating is 2.99"
   ]
  },
  {
   "cell_type": "code",
   "execution_count": 56,
   "id": "e63d7007",
   "metadata": {},
   "outputs": [
    {
     "data": {
      "text/plain": [
       "Index(['Product_ID', 'Total_Sales', 'Revenue_Generated',\n",
       "       'Average_Selling_Price', 'Discount_Percentage', 'Stock_Available',\n",
       "       'Reorder_Level', 'Lead_Time', 'Stock_Turnover_Rate', 'Customer_Rating',\n",
       "       'Number_of_Reviews', 'Return_Rate', 'Marketing_Spend',\n",
       "       'Promotion_Effectiveness', 'Profit_Margin', 'Cost_of_Goods_Sold',\n",
       "       'Market_Competitiveness_Index'],\n",
       "      dtype='object')"
      ]
     },
     "execution_count": 56,
     "metadata": {},
     "output_type": "execute_result"
    }
   ],
   "source": [
    "# Show the Numerical Columns\n",
    "df_num.columns"
   ]
  },
  {
   "cell_type": "markdown",
   "id": "0a5833a7",
   "metadata": {},
   "source": [
    "#### Number_of_Reviews"
   ]
  },
  {
   "cell_type": "code",
   "execution_count": 57,
   "id": "96fe840c",
   "metadata": {},
   "outputs": [
    {
     "data": {
      "text/plain": [
       "1"
      ]
     },
     "execution_count": 57,
     "metadata": {},
     "output_type": "execute_result"
    }
   ],
   "source": [
    "# Show the minimum\n",
    "df_num.Number_of_Reviews.min()"
   ]
  },
  {
   "cell_type": "code",
   "execution_count": 58,
   "id": "a006f8d8",
   "metadata": {},
   "outputs": [
    {
     "data": {
      "text/plain": [
       "4999"
      ]
     },
     "execution_count": 58,
     "metadata": {},
     "output_type": "execute_result"
    }
   ],
   "source": [
    "# Show the maximum \n",
    "df_num.Number_of_Reviews.max()"
   ]
  },
  {
   "cell_type": "code",
   "execution_count": 59,
   "id": "6c549edb",
   "metadata": {},
   "outputs": [
    {
     "ename": "AttributeError",
     "evalue": "'DataFrame' object has no attribute 'N'",
     "output_type": "error",
     "traceback": [
      "\u001b[1;31m---------------------------------------------------------------------------\u001b[0m",
      "\u001b[1;31mAttributeError\u001b[0m                            Traceback (most recent call last)",
      "\u001b[1;32m~\\AppData\\Local\\Temp\\ipykernel_10020\\776055772.py\u001b[0m in \u001b[0;36m?\u001b[1;34m()\u001b[0m\n\u001b[0;32m      1\u001b[0m \u001b[1;31m#Show the Average\u001b[0m\u001b[1;33m\u001b[0m\u001b[1;33m\u001b[0m\u001b[0m\n\u001b[0;32m      2\u001b[0m \u001b[1;33m\u001b[0m\u001b[0m\n\u001b[1;32m----> 3\u001b[1;33m \u001b[0mres\u001b[0m \u001b[1;33m=\u001b[0m \u001b[0mdf_num\u001b[0m\u001b[1;33m.\u001b[0m\u001b[0mN\u001b[0m\u001b[1;33m.\u001b[0m\u001b[0mmean\u001b[0m\u001b[1;33m(\u001b[0m\u001b[1;33m)\u001b[0m\u001b[1;33m\u001b[0m\u001b[1;33m\u001b[0m\u001b[0m\n\u001b[0m\u001b[0;32m      4\u001b[0m \u001b[0mprint\u001b[0m\u001b[1;33m(\u001b[0m\u001b[1;34mf\"mean is {res:.2f}\"\u001b[0m\u001b[1;33m)\u001b[0m\u001b[1;33m\u001b[0m\u001b[1;33m\u001b[0m\u001b[0m\n",
      "\u001b[1;32m~\\anaconda3\\Lib\\site-packages\\pandas\\core\\generic.py\u001b[0m in \u001b[0;36m?\u001b[1;34m(self, name)\u001b[0m\n\u001b[0;32m   5985\u001b[0m             \u001b[1;32mand\u001b[0m \u001b[0mname\u001b[0m \u001b[1;32mnot\u001b[0m \u001b[1;32min\u001b[0m \u001b[0mself\u001b[0m\u001b[1;33m.\u001b[0m\u001b[0m_accessors\u001b[0m\u001b[1;33m\u001b[0m\u001b[1;33m\u001b[0m\u001b[0m\n\u001b[0;32m   5986\u001b[0m             \u001b[1;32mand\u001b[0m \u001b[0mself\u001b[0m\u001b[1;33m.\u001b[0m\u001b[0m_info_axis\u001b[0m\u001b[1;33m.\u001b[0m\u001b[0m_can_hold_identifiers_and_holds_name\u001b[0m\u001b[1;33m(\u001b[0m\u001b[0mname\u001b[0m\u001b[1;33m)\u001b[0m\u001b[1;33m\u001b[0m\u001b[1;33m\u001b[0m\u001b[0m\n\u001b[0;32m   5987\u001b[0m         ):\n\u001b[0;32m   5988\u001b[0m             \u001b[1;32mreturn\u001b[0m \u001b[0mself\u001b[0m\u001b[1;33m[\u001b[0m\u001b[0mname\u001b[0m\u001b[1;33m]\u001b[0m\u001b[1;33m\u001b[0m\u001b[1;33m\u001b[0m\u001b[0m\n\u001b[1;32m-> 5989\u001b[1;33m         \u001b[1;32mreturn\u001b[0m \u001b[0mobject\u001b[0m\u001b[1;33m.\u001b[0m\u001b[0m__getattribute__\u001b[0m\u001b[1;33m(\u001b[0m\u001b[0mself\u001b[0m\u001b[1;33m,\u001b[0m \u001b[0mname\u001b[0m\u001b[1;33m)\u001b[0m\u001b[1;33m\u001b[0m\u001b[1;33m\u001b[0m\u001b[0m\n\u001b[0m",
      "\u001b[1;31mAttributeError\u001b[0m: 'DataFrame' object has no attribute 'N'"
     ]
    }
   ],
   "source": [
    "#Show the Average \n",
    "\n",
    "res = df_num.N.mean()\n",
    "print(f\"mean is {res:.2f}\")"
   ]
  },
  {
   "cell_type": "code",
   "execution_count": null,
   "id": "cf4cfbb2",
   "metadata": {},
   "outputs": [],
   "source": [
    "# Show the Distribution of the Single Numerical Columns\n",
    "df_num.Number_of_Reviews.plot(kind='kde', color=\"Darkblue\") #internal density plot\n",
    "plt.grid()\n",
    "plt.title('Distribution of Number_of_Review')\n",
    "plt.show()"
   ]
  },
  {
   "cell_type": "code",
   "execution_count": null,
   "id": "c073475e",
   "metadata": {},
   "outputs": [],
   "source": [
    "# Show the Distribution of the Single Numerical Columns\n",
    "df_num.Number_of_Reviews.plot(kind='kde', color=\"Darkblue\") #internal density plot\n",
    "plt.grid()\n",
    "plt.title('Distribution of Number_of_Review')\n",
    "plt.show()"
   ]
  },
  {
   "cell_type": "markdown",
   "id": "486d1bff",
   "metadata": {},
   "source": [
    "**Interpretation**\n",
    "\n",
    " - Minimum Number_of_Reviews is 1\n",
    " - Maximum Number_of_Reviews is 4999\n",
    " - Mean Number_of_Reviews is 2496.94"
   ]
  },
  {
   "cell_type": "code",
   "execution_count": null,
   "id": "6bdddbdf",
   "metadata": {},
   "outputs": [],
   "source": [
    "# Show the Numerical Columns\n",
    "df_num.columns\n"
   ]
  },
  {
   "cell_type": "markdown",
   "id": "ad614430",
   "metadata": {},
   "source": [
    "#### Return_Rate"
   ]
  },
  {
   "cell_type": "code",
   "execution_count": null,
   "id": "69428813",
   "metadata": {},
   "outputs": [],
   "source": [
    "# Show the minimum\n",
    "df_num.Return_Rate.min()"
   ]
  },
  {
   "cell_type": "code",
   "execution_count": null,
   "id": "3bb4df14",
   "metadata": {},
   "outputs": [],
   "source": [
    "# Show the maximum \n",
    "df_num.Return_Rate.max()"
   ]
  },
  {
   "cell_type": "code",
   "execution_count": null,
   "id": "a5600d0f",
   "metadata": {},
   "outputs": [],
   "source": [
    "#Show the Average \n",
    "\n",
    "res = df_num.Return_Rate.mean()\n",
    "print(f\"mean is {res:.2f}\")"
   ]
  },
  {
   "cell_type": "code",
   "execution_count": null,
   "id": "6539fabd",
   "metadata": {},
   "outputs": [],
   "source": [
    "# Show the Distribution of the Single Numerical Columns\n",
    "df_num.Return_Rate.plot(kind='kde', color=\"Darkblue\") #internal density plot\n",
    "plt.grid()\n",
    "plt.title('Distribution of Return_Rate')\n",
    "plt.show()"
   ]
  },
  {
   "cell_type": "markdown",
   "id": "9ac22c09",
   "metadata": {},
   "source": [
    "**Interpretation**\n",
    "\n",
    " - Minimum Return_Rate is 0.0\n",
    " - Maximum Return_Rate is 20.0\n",
    " - Mean Return_Rate is 10.03"
   ]
  },
  {
   "cell_type": "code",
   "execution_count": null,
   "id": "730720db",
   "metadata": {},
   "outputs": [],
   "source": [
    "# Show the Numerical Columns\n",
    "df_num.columns\n"
   ]
  },
  {
   "cell_type": "markdown",
   "id": "ae181055",
   "metadata": {},
   "source": [
    "#### Marketing_Spend"
   ]
  },
  {
   "cell_type": "code",
   "execution_count": null,
   "id": "0ed0df75",
   "metadata": {},
   "outputs": [],
   "source": [
    "# Show the minimum\n",
    "df_num.Marketing_Spend.min()"
   ]
  },
  {
   "cell_type": "code",
   "execution_count": null,
   "id": "8b671938",
   "metadata": {},
   "outputs": [],
   "source": [
    "# Show the maximum \n",
    "df_num.Marketing_Spend.max()"
   ]
  },
  {
   "cell_type": "code",
   "execution_count": null,
   "id": "15cbd39a",
   "metadata": {},
   "outputs": [],
   "source": [
    "#Show the Average \n",
    "\n",
    "res = df_num.Marketing_Spend.mean()\n",
    "print(f\"mean is {res:.2f}\")"
   ]
  },
  {
   "cell_type": "code",
   "execution_count": null,
   "id": "d28e3bdc",
   "metadata": {},
   "outputs": [],
   "source": [
    "# Show the Distribution of the Single Numerical Columns\n",
    "df_num.Marketing_Spend.plot(kind='kde', color=\"Darkblue\") #internal density plot\n",
    "plt.grid()\n",
    "plt.title('Distribution of Marketing_Spend')\n",
    "plt.show()"
   ]
  },
  {
   "cell_type": "markdown",
   "id": "5ab32327",
   "metadata": {},
   "source": [
    "**Interpretation**\n",
    "\n",
    " - Minimum Marketing_Spend is 1014.65\n",
    " - Maximum Marketing_Spend is 499996.03\n",
    " - Mean Marketing_Spend is 249769.51"
   ]
  },
  {
   "cell_type": "code",
   "execution_count": null,
   "id": "9c2efd5a",
   "metadata": {},
   "outputs": [],
   "source": [
    "# Show the Numerical Columns\n",
    "df_num.columns\n"
   ]
  },
  {
   "cell_type": "markdown",
   "id": "be12b10c",
   "metadata": {},
   "source": [
    "#### Promotion_Effectiveness"
   ]
  },
  {
   "cell_type": "code",
   "execution_count": null,
   "id": "75ea6369",
   "metadata": {},
   "outputs": [],
   "source": [
    "# Show the minimum\n",
    "df_num.Promotion_Effectiveness.min()"
   ]
  },
  {
   "cell_type": "code",
   "execution_count": null,
   "id": "4df7b71d",
   "metadata": {},
   "outputs": [],
   "source": [
    "# Show the maximum \n",
    "df_num.Promotion_Effectiveness.max()"
   ]
  },
  {
   "cell_type": "code",
   "execution_count": null,
   "id": "63d15213",
   "metadata": {},
   "outputs": [],
   "source": [
    "#Show the Average \n",
    "\n",
    "res = df_num.Promotion_Effectiveness.mean()\n",
    "print(f\"mean is {res:.2f}\")"
   ]
  },
  {
   "cell_type": "code",
   "execution_count": null,
   "id": "65a17749",
   "metadata": {},
   "outputs": [],
   "source": [
    "# Show the Distribution of the Single Numerical Columns\n",
    "df_num.Promotion_Effectiveness.plot(kind='kde', color=\"Darkblue\") #internal density plot\n",
    "plt.grid()\n",
    "plt.title('Distribution of Promotion_Effectiveness')\n",
    "plt.show()"
   ]
  },
  {
   "cell_type": "markdown",
   "id": "0c08ebf9",
   "metadata": {},
   "source": [
    "**Interpretation**\n",
    "\n",
    " - Minimum Promotion_Effectiveness is 0.0\n",
    " - Maximum Promotion_Effectiveness is 99.99\n",
    " - Mean Promotion_Effectiveness is 49.84"
   ]
  },
  {
   "cell_type": "code",
   "execution_count": null,
   "id": "1ad1ae5f",
   "metadata": {},
   "outputs": [],
   "source": [
    "# Show the Numerical Columns\n",
    "df_num.columns\n"
   ]
  },
  {
   "cell_type": "markdown",
   "id": "84331b1d",
   "metadata": {},
   "source": [
    "#### Profit_Margin"
   ]
  },
  {
   "cell_type": "code",
   "execution_count": null,
   "id": "7b665900",
   "metadata": {},
   "outputs": [],
   "source": [
    "# Show the minimum\n",
    "df_num.Profit_Margin.min()"
   ]
  },
  {
   "cell_type": "code",
   "execution_count": null,
   "id": "7a926407",
   "metadata": {},
   "outputs": [],
   "source": [
    "# Show the maximum \n",
    "df_num.Profit_Margin.max()"
   ]
  },
  {
   "cell_type": "code",
   "execution_count": null,
   "id": "ddedf1a7",
   "metadata": {},
   "outputs": [],
   "source": [
    "#Show the Average \n",
    "\n",
    "res = df_num.Profit_Margin.mean()\n",
    "print(f\"mean is {res:.2f}\")"
   ]
  },
  {
   "cell_type": "code",
   "execution_count": null,
   "id": "809e5765",
   "metadata": {},
   "outputs": [],
   "source": [
    "# Show the Distribution of the Single Numerical Columns\n",
    "df_num.Profit_Margin.plot(kind='kde', color=\"Darkblue\") #internal density plot\n",
    "plt.grid()\n",
    "plt.title('Distribution of Profit_Margin')\n",
    "plt.show()"
   ]
  },
  {
   "cell_type": "markdown",
   "id": "820af685",
   "metadata": {},
   "source": [
    "**Interpretation**\n",
    "\n",
    " - Minimum Profit_margin is 5.0\n",
    " - Maximum Profit_Margin is 50.0\n",
    " - Mean Profit_Margin is 27.73"
   ]
  },
  {
   "cell_type": "code",
   "execution_count": null,
   "id": "62355b9f",
   "metadata": {},
   "outputs": [],
   "source": [
    "# Show the Numerical Columns\n",
    "df_num.columns"
   ]
  },
  {
   "cell_type": "markdown",
   "id": "22cbf1b9",
   "metadata": {},
   "source": [
    "#### Cost_of_Goods_Sold"
   ]
  },
  {
   "cell_type": "code",
   "execution_count": null,
   "id": "1f497478",
   "metadata": {},
   "outputs": [],
   "source": [
    "# Show the minimum\n",
    "df_num.Cost_of_Goods_Sold.min()"
   ]
  },
  {
   "cell_type": "code",
   "execution_count": null,
   "id": "a70f04ae",
   "metadata": {},
   "outputs": [],
   "source": [
    "# Show the maximum \n",
    "df_num.Cost_of_Goods_Sold.max()"
   ]
  },
  {
   "cell_type": "code",
   "execution_count": null,
   "id": "c96b4a67",
   "metadata": {},
   "outputs": [],
   "source": [
    "#Show the Average \n",
    "\n",
    "res = df_num.Cost_of_Goods_Sold.mean()\n",
    "print(f\"mean is {res:.2f}\")"
   ]
  },
  {
   "cell_type": "code",
   "execution_count": null,
   "id": "5a681201",
   "metadata": {},
   "outputs": [],
   "source": [
    "# Show the Distribution of the Single Numerical Columns\n",
    "df_num.Cost_of_Goods_Sold.plot(kind='kde', color=\"Darkblue\") #internal density plot\n",
    "plt.grid()\n",
    "plt.title('Distribution of Cost_of_Goods_Sold')\n",
    "plt.show()"
   ]
  },
  {
   "cell_type": "markdown",
   "id": "13352a8f",
   "metadata": {},
   "source": [
    "**Interpretation**\n",
    "\n",
    " - Minimum Cost_of_Goods_Sold is 2.0\n",
    " - Maximum Cost_of_Goods_Sold is 799.9\n",
    " - Mean Cost_of_Goods_Sold is 401.19"
   ]
  },
  {
   "cell_type": "code",
   "execution_count": null,
   "id": "824d6e25",
   "metadata": {},
   "outputs": [],
   "source": [
    "# Show the Numerical Columns\n",
    "df_num.columns"
   ]
  },
  {
   "cell_type": "markdown",
   "id": "36383487",
   "metadata": {},
   "source": [
    "#### Market_Competitiveness_Index"
   ]
  },
  {
   "cell_type": "code",
   "execution_count": null,
   "id": "c18864c6",
   "metadata": {},
   "outputs": [],
   "source": [
    "# Show the minimum\n",
    "df_num.Market_Competitiveness_Index.min()"
   ]
  },
  {
   "cell_type": "code",
   "execution_count": null,
   "id": "4d86259b",
   "metadata": {},
   "outputs": [],
   "source": [
    "# Show the maximum \n",
    "df_num.Market_Competitiveness_Index.max()"
   ]
  },
  {
   "cell_type": "code",
   "execution_count": null,
   "id": "6b33e329",
   "metadata": {},
   "outputs": [],
   "source": [
    "#Show the Average \n",
    "\n",
    "res = df_num.Market_Competitiveness_Index.mean()\n",
    "print(f\"mean is {res:.2f}\")"
   ]
  },
  {
   "cell_type": "code",
   "execution_count": null,
   "id": "7df19c2e",
   "metadata": {},
   "outputs": [],
   "source": [
    "# Show the Distribution of the Single Numerical Columns\n",
    "df_num.Market_Competitiveness_Index.plot(kind='kde', color=\"Darkblue\") #internal density plot\n",
    "plt.grid()\n",
    "plt.title('Distribution of Market_Competitiveness_Index')\n",
    "plt.show()"
   ]
  },
  {
   "cell_type": "markdown",
   "id": "f91d0b30",
   "metadata": {},
   "source": [
    "**Interpretation**\n",
    "\n",
    " - Minimum Market_Competitiveness_Index is 0.0\n",
    " - Maximum Market_Competitiveness_Index is 100.0\n",
    " - Mean Market_Competitiveness_Index is 50.15"
   ]
  },
  {
   "cell_type": "code",
   "execution_count": null,
   "id": "902e1343",
   "metadata": {},
   "outputs": [],
   "source": []
  }
 ],
 "metadata": {
  "kernelspec": {
   "display_name": "Python 3 (ipykernel)",
   "language": "python",
   "name": "python3"
  },
  "language_info": {
   "codemirror_mode": {
    "name": "ipython",
    "version": 3
   },
   "file_extension": ".py",
   "mimetype": "text/x-python",
   "name": "python",
   "nbconvert_exporter": "python",
   "pygments_lexer": "ipython3",
   "version": "3.11.5"
  }
 },
 "nbformat": 4,
 "nbformat_minor": 5
}
